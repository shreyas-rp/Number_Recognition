{
 "cells": [
  {
   "cell_type": "markdown",
   "metadata": {
    "id": "Y8Jd4dEFFiJy"
   },
   "source": [
    "# MNIST Classification with Keras Neural Network\n"
   ]
  },
  {
   "cell_type": "markdown",
   "metadata": {
    "id": "tmlQblyQGgRi"
   },
   "source": [
    "This notebook demonstrates how to build a neural network using the Keras library to perform image classification on the popular MNIST dataset.\n",
    "The MNIST dataset consists of 28x28 grayscale images of handwritten digits (0-9) and corresponding labels.\n",
    "\n",
    "In this notebook, we will go through the following steps:\n",
    "\n",
    "1. Loading and exploring the MNIST dataset.\n",
    "2. Preprocessing the data by reshaping, normalizing, and one-hot encoding the labels.\n",
    "3. Building a neural network model using Keras with a dense layer for classification.\n",
    "4. Compiling the model with appropriate settings for optimization and loss function.\n",
    "5. Training the model on the training data and monitoring its performance.\n",
    "6. Evaluating the trained model on the test dataset to measure its accuracy.\n"
   ]
  },
  {
   "cell_type": "markdown",
   "metadata": {
    "id": "fBf9LbHwHqG9"
   },
   "source": [
    "Importing necessary libraries and modules and\n",
    "Capture cell output using the '%%capture' magic command"
   ]
  },
  {
   "cell_type": "code",
   "execution_count": null,
   "metadata": {
    "id": "cJ1vjpsLi1Gy"
   },
   "outputs": [],
   "source": [
    "%%capture\n",
    "from keras.datasets import mnist\n",
    "import matplotlib.pyplot as plt"
   ]
  },
  {
   "cell_type": "markdown",
   "metadata": {
    "id": "9eap7x2TIIWk"
   },
   "source": [
    "Loading the MNIST dataset into train and test sets"
   ]
  },
  {
   "cell_type": "code",
   "execution_count": null,
   "metadata": {
    "id": "DecQlS4li1G0"
   },
   "outputs": [],
   "source": [
    "(train_images, train_labels),(test_images, test_labels) = mnist.load_data()"
   ]
  },
  {
   "cell_type": "markdown",
   "metadata": {
    "id": "k6TFfyKRIiBU"
   },
   "source": [
    "Checking the data types and shapes of the train_images array"
   ]
  },
  {
   "cell_type": "code",
   "execution_count": null,
   "metadata": {
    "colab": {
     "base_uri": "https://localhost:8080/"
    },
    "id": "NdwdQl8ci1G1",
    "outputId": "92978105-b6ea-49b9-f24d-e182779490f4"
   },
   "outputs": [
    {
     "data": {
      "text/plain": [
       "numpy.ndarray"
      ]
     },
     "execution_count": 8,
     "metadata": {},
     "output_type": "execute_result"
    }
   ],
   "source": [
    "type(train_images)"
   ]
  },
  {
   "cell_type": "code",
   "execution_count": null,
   "metadata": {
    "colab": {
     "base_uri": "https://localhost:8080/"
    },
    "id": "qtduV9XDi1G2",
    "outputId": "f8ecc9dd-02a4-4343-8c91-88df7a4fe4f8"
   },
   "outputs": [
    {
     "data": {
      "text/plain": [
       "dtype('uint8')"
      ]
     },
     "execution_count": 9,
     "metadata": {},
     "output_type": "execute_result"
    }
   ],
   "source": [
    "train_images.dtype"
   ]
  },
  {
   "cell_type": "code",
   "execution_count": null,
   "metadata": {
    "colab": {
     "base_uri": "https://localhost:8080/"
    },
    "id": "OjX3WF5ci1G3",
    "outputId": "25a36fe7-9597-47d5-aded-d240f221c38a"
   },
   "outputs": [
    {
     "data": {
      "text/plain": [
       "3"
      ]
     },
     "execution_count": 10,
     "metadata": {},
     "output_type": "execute_result"
    }
   ],
   "source": [
    "train_images.ndim"
   ]
  },
  {
   "cell_type": "code",
   "execution_count": null,
   "metadata": {
    "colab": {
     "base_uri": "https://localhost:8080/"
    },
    "id": "FITWi02gi1G3",
    "outputId": "03f70fc0-c811-4241-8b5e-c2c082088769"
   },
   "outputs": [
    {
     "data": {
      "text/plain": [
       "(60000, 28, 28)"
      ]
     },
     "execution_count": 11,
     "metadata": {},
     "output_type": "execute_result"
    }
   ],
   "source": [
    "train_images.shape"
   ]
  },
  {
   "cell_type": "markdown",
   "metadata": {
    "id": "RcUziOS1Il67"
   },
   "source": [
    "Displaying an example image from the dataset (train and test)"
   ]
  },
  {
   "cell_type": "code",
   "execution_count": null,
   "metadata": {
    "colab": {
     "base_uri": "https://localhost:8080/",
     "height": 843
    },
    "id": "D9S3wwgFi1G3",
    "outputId": "36d74c31-ce62-449b-b9e0-86d86fb45f5e"
   },
   "outputs": [
    {
     "data": {
      "image/png": "[encoded data removed]",
      "text/plain": [
       "<Figure size 640x480 with 1 Axes>"
      ]
     },
     "metadata": {},
     "output_type": "display_data"
    },
    {
     "data": {
      "image/png": "[encoded data removed]",
      "text/plain": [
       "<Figure size 640x480 with 1 Axes>"
      ]
     },
     "metadata": {},
     "output_type": "display_data"
    }
   ],
   "source": [
    "plt.imshow(train_images[1,:,:], cmap = plt.cm.binary)\n",
    "plt.show()\n",
    "plt.imshow(test_images[1,:,:], cmap = plt.cm.binary)\n",
    "plt.show()"
   ]
  },
  {
   "cell_type": "markdown",
   "metadata": {
    "id": "H6-PGkp2I1wv"
   },
   "source": [
    "Checking the data types and shapes of the train_labels and test_labels array"
   ]
  },
  {
   "cell_type": "code",
   "execution_count": null,
   "metadata": {
    "colab": {
     "base_uri": "https://localhost:8080/"
    },
    "id": "oqsB7-y8i1G4",
    "outputId": "ec96db20-a0b8-4211-d5ac-6fd03d8576f9"
   },
   "outputs": [
    {
     "data": {
      "text/plain": [
       "numpy.ndarray"
      ]
     },
     "execution_count": 13,
     "metadata": {},
     "output_type": "execute_result"
    }
   ],
   "source": [
    "type(train_labels)"
   ]
  },
  {
   "cell_type": "code",
   "execution_count": null,
   "metadata": {
    "colab": {
     "base_uri": "https://localhost:8080/"
    },
    "id": "TyrQSgxUi1G5",
    "outputId": "1e1b6d12-60a2-4a2f-8040-9ec604579037"
   },
   "outputs": [
    {
     "data": {
      "text/plain": [
       "(60000,)"
      ]
     },
     "execution_count": 14,
     "metadata": {},
     "output_type": "execute_result"
    }
   ],
   "source": [
    "train_labels.shape"
   ]
  },
  {
   "cell_type": "code",
   "execution_count": null,
   "metadata": {
    "colab": {
     "base_uri": "https://localhost:8080/"
    },
    "id": "bYOTn-B0i1G5",
    "outputId": "6eee8db0-23a3-494e-d1d9-5be700a143fc"
   },
   "outputs": [
    {
     "data": {
      "text/plain": [
       "0"
      ]
     },
     "execution_count": 15,
     "metadata": {},
     "output_type": "execute_result"
    }
   ],
   "source": [
    "train_labels[1]"
   ]
  },
  {
   "cell_type": "code",
   "execution_count": null,
   "metadata": {
    "colab": {
     "base_uri": "https://localhost:8080/"
    },
    "id": "wNFj8IiBi1G6",
    "outputId": "ef1028e9-645b-451b-cb19-b3390ad26b98"
   },
   "outputs": [
    {
     "data": {
      "text/plain": [
       "4"
      ]
     },
     "execution_count": 16,
     "metadata": {},
     "output_type": "execute_result"
    }
   ],
   "source": [
    "train_labels[2]"
   ]
  },
  {
   "cell_type": "code",
   "execution_count": null,
   "metadata": {
    "colab": {
     "base_uri": "https://localhost:8080/"
    },
    "id": "0v6jNexwi1G6",
    "outputId": "5e1d1062-0bc9-49a5-dfe0-42f8cc78f365"
   },
   "outputs": [
    {
     "data": {
      "text/plain": [
       "numpy.ndarray"
      ]
     },
     "execution_count": 17,
     "metadata": {},
     "output_type": "execute_result"
    }
   ],
   "source": [
    "type(test_images)"
   ]
  },
  {
   "cell_type": "code",
   "execution_count": null,
   "metadata": {
    "colab": {
     "base_uri": "https://localhost:8080/"
    },
    "id": "hplU4U5vi1G7",
    "outputId": "95ab54df-27de-405b-9064-95efc10d33ab"
   },
   "outputs": [
    {
     "data": {
      "text/plain": [
       "(10000, 28, 28)"
      ]
     },
     "execution_count": 18,
     "metadata": {},
     "output_type": "execute_result"
    }
   ],
   "source": [
    "test_images.shape"
   ]
  },
  {
   "cell_type": "code",
   "execution_count": null,
   "metadata": {
    "colab": {
     "base_uri": "https://localhost:8080/"
    },
    "id": "e9a-vYd9i1G7",
    "outputId": "488ae7bf-03a7-4699-fb38-6cae407f45f7"
   },
   "outputs": [
    {
     "data": {
      "text/plain": [
       "3"
      ]
     },
     "execution_count": 19,
     "metadata": {},
     "output_type": "execute_result"
    }
   ],
   "source": [
    "test_images.ndim"
   ]
  },
  {
   "cell_type": "code",
   "execution_count": null,
   "metadata": {
    "colab": {
     "base_uri": "https://localhost:8080/"
    },
    "id": "fnfEmdA9i1G7",
    "outputId": "ce530c15-51e0-482a-afdd-f24ebd3dc033"
   },
   "outputs": [
    {
     "data": {
      "text/plain": [
       "(10000,)"
      ]
     },
     "execution_count": 20,
     "metadata": {},
     "output_type": "execute_result"
    }
   ],
   "source": [
    "test_labels.shape"
   ]
  },
  {
   "cell_type": "markdown",
   "metadata": {
    "id": "07zX4WpVJKb1"
   },
   "source": [
    "Preprocessing the data: Reshaping and normalizing the images"
   ]
  },
  {
   "cell_type": "code",
   "execution_count": null,
   "metadata": {
    "id": "BcgmSOKXi1G7"
   },
   "outputs": [],
   "source": [
    "train_images = train_images.reshape((60000,28*28))\n",
    "train_images = train_images.astype(\"float32\")/255"
   ]
  },
  {
   "cell_type": "code",
   "execution_count": null,
   "metadata": {
    "id": "ORsWLvImi1G8"
   },
   "outputs": [],
   "source": [
    "test_images = test_images.reshape((10000,28*28))\n",
    "test_images = test_images.astype(\"float32\")/255"
   ]
  },
  {
   "cell_type": "code",
   "execution_count": null,
   "metadata": {
    "colab": {
     "base_uri": "https://localhost:8080/"
    },
    "id": "sD9jJUy2i1G8",
    "outputId": "e9643cae-0e1b-43b8-f12d-ea84270be50e"
   },
   "outputs": [
    {
     "data": {
      "text/plain": [
       "(60000, 784)"
      ]
     },
     "execution_count": 24,
     "metadata": {},
     "output_type": "execute_result"
    }
   ],
   "source": [
    "train_images.shape"
   ]
  },
  {
   "cell_type": "code",
   "execution_count": null,
   "metadata": {
    "colab": {
     "base_uri": "https://localhost:8080/"
    },
    "id": "JdxeQJZUi1G8",
    "outputId": "d47d2eb6-3018-47db-c7c0-9ace8b2f07dd"
   },
   "outputs": [
    {
     "data": {
      "text/plain": [
       "(10000, 784)"
      ]
     },
     "execution_count": 25,
     "metadata": {},
     "output_type": "execute_result"
    }
   ],
   "source": [
    "test_images.shape"
   ]
  },
  {
   "cell_type": "markdown",
   "metadata": {
    "id": "s2Ulcf4mJSv4"
   },
   "source": [
    "Preprocessing the labels: One-hot encoding the labels"
   ]
  },
  {
   "cell_type": "code",
   "execution_count": null,
   "metadata": {
    "id": "vHukmYiai1G9"
   },
   "outputs": [],
   "source": [
    "from keras.utils import to_categorical\n",
    "train_labels = to_categorical(train_labels)\n",
    "test_labels = to_categorical(test_labels)"
   ]
  },
  {
   "cell_type": "markdown",
   "metadata": {
    "id": "4WQXNqDNJXWg"
   },
   "source": [
    "Building the neural network model"
   ]
  },
  {
   "cell_type": "code",
   "execution_count": null,
   "metadata": {
    "id": "kj1T2qv4i1G9"
   },
   "outputs": [],
   "source": [
    "from keras import models\n",
    "from keras import layers"
   ]
  },
  {
   "cell_type": "code",
   "execution_count": null,
   "metadata": {
    "id": "rjAyPgghi1G-"
   },
   "outputs": [],
   "source": [
    "model = models.Sequential()"
   ]
  },
  {
   "cell_type": "markdown",
   "metadata": {
    "id": "q93ZYTI-JfkK"
   },
   "source": [
    "Adding a dense layer with ReLU activation function for 512 units and specifying input shape                                                                       \n",
    "Adding the output layer with softmax activation function for 10 classes"
   ]
  },
  {
   "cell_type": "code",
   "execution_count": null,
   "metadata": {
    "id": "Zu7M9RCNi1G-"
   },
   "outputs": [],
   "source": [
    "model.add(layers.Dense(512, activation = \"relu\", input_shape = (28*28, )))\n",
    "model.add(layers.Dense(10, activation = \"softmax\"))"
   ]
  },
  {
   "cell_type": "code",
   "execution_count": null,
   "metadata": {
    "colab": {
     "base_uri": "https://localhost:8080/"
    },
    "id": "sx7-gIMOi1G-",
    "outputId": "390c7e4a-09f5-4581-f2a3-a72b03fb41f2"
   },
   "outputs": [
    {
     "name": "stdout",
     "output_type": "stream",
     "text": [
      "Model: \"sequential\"\n",
      "_________________________________________________________________\n",
      " Layer (type)                Output Shape              Param #   \n",
      "=================================================================\n",
      " dense (Dense)               (None, 512)               401920    \n",
      "                                                                 \n",
      " dense_1 (Dense)             (None, 10)                5130      \n",
      "                                                                 \n",
      "=================================================================\n",
      "Total params: 407,050\n",
      "Trainable params: 407,050\n",
      "Non-trainable params: 0\n",
      "_________________________________________________________________\n"
     ]
    }
   ],
   "source": [
    "model.summary()"
   ]
  },
  {
   "cell_type": "markdown",
   "metadata": {
    "id": "dgwaqMFbKBYE"
   },
   "source": [
    "Compiling the model with RMSprop optimizer, categorical cross-entropy loss, and accuracy metric"
   ]
  },
  {
   "cell_type": "code",
   "execution_count": null,
   "metadata": {
    "id": "E9FGtwtVi1G_"
   },
   "outputs": [],
   "source": [
    "model.compile(optimizer= \"rmsprop\",\n",
    "             loss = \"categorical_crossentropy\",\n",
    "             metrics = [\"accuracy\"])"
   ]
  },
  {
   "cell_type": "markdown",
   "metadata": {
    "id": "bcSBFznsKKrX"
   },
   "source": [
    "Training the model on the training data"
   ]
  },
  {
   "cell_type": "code",
   "execution_count": null,
   "metadata": {
    "colab": {
     "base_uri": "https://localhost:8080/"
    },
    "id": "KPlLHe4gi1G_",
    "outputId": "e696bba6-0648-456d-a78c-d0a3bbfc7008"
   },
   "outputs": [
    {
     "name": "stdout",
     "output_type": "stream",
     "text": [
      "Epoch 1/10\n",
      "469/469 [==============================] - 6s 10ms/step - loss: 0.2655 - accuracy: 0.9233\n",
      "Epoch 2/10\n",
      "469/469 [==============================] - 5s 11ms/step - loss: 0.1067 - accuracy: 0.9681\n",
      "Epoch 3/10\n",
      "469/469 [==============================] - 6s 12ms/step - loss: 0.0703 - accuracy: 0.9790\n",
      "Epoch 4/10\n",
      "469/469 [==============================] - 5s 10ms/step - loss: 0.0513 - accuracy: 0.9848\n",
      "Epoch 5/10\n",
      "469/469 [==============================] - 6s 12ms/step - loss: 0.0378 - accuracy: 0.9889\n",
      "Epoch 6/10\n",
      "469/469 [==============================] - 5s 10ms/step - loss: 0.0289 - accuracy: 0.9913\n",
      "Epoch 7/10\n",
      "469/469 [==============================] - 5s 11ms/step - loss: 0.0222 - accuracy: 0.9938\n",
      "Epoch 8/10\n",
      "469/469 [==============================] - 6s 12ms/step - loss: 0.0176 - accuracy: 0.9950\n",
      "Epoch 9/10\n",
      "469/469 [==============================] - 5s 10ms/step - loss: 0.0131 - accuracy: 0.9965\n",
      "Epoch 10/10\n",
      "469/469 [==============================] - 6s 13ms/step - loss: 0.0094 - accuracy: 0.9977\n"
     ]
    },
    {
     "data": {
      "text/plain": [
       "<keras.callbacks.History at 0x7f5dc7f9a6b0>"
      ]
     },
     "execution_count": 32,
     "metadata": {},
     "output_type": "execute_result"
    }
   ],
   "source": [
    "model.fit(train_images,\n",
    "         train_labels,\n",
    "         epochs = 10,\n",
    "         batch_size = 128)"
   ]
  },
  {
   "cell_type": "markdown",
   "metadata": {
    "id": "JJFFZpJ6KPwu"
   },
   "source": [
    "Evaluating the model on the test data"
   ]
  },
  {
   "cell_type": "code",
   "execution_count": null,
   "metadata": {
    "colab": {
     "base_uri": "https://localhost:8080/"
    },
    "id": "Ljz7s24Ti1G_",
    "outputId": "22c05051-677c-4105-8030-4942ebe3118b"
   },
   "outputs": [
    {
     "name": "stdout",
     "output_type": "stream",
     "text": [
      "313/313 [==============================] - 2s 5ms/step - loss: 0.0673 - accuracy: 0.9813\n",
      "test_loss :  0.06734034419059753 \n",
      "test_acc :  0.9812999963760376\n"
     ]
    }
   ],
   "source": [
    "test_loss, test_acc = model.evaluate(test_images, test_labels)\n",
    "print(\"test_loss : \", test_loss,\"\\ntest_acc : \", test_acc)"
   ]
  },
  {
   "cell_type": "markdown",
   "metadata": {
    "id": "hHRxi1dJNroX"
   },
   "source": [
    "Predicting labels for test images using the trained model"
   ]
  },
  {
   "cell_type": "code",
   "execution_count": null,
   "metadata": {
    "colab": {
     "base_uri": "https://localhost:8080/"
    },
    "id": "8VrnA0M-Y-aW",
    "outputId": "b03ebbf8-e01d-4a9b-eb57-76b7379d540e"
   },
   "outputs": [
    {
     "name": "stdout",
     "output_type": "stream",
     "text": [
      "313/313 [==============================] - 1s 3ms/step\n"
     ]
    }
   ],
   "source": [
    "import numpy as np\n",
    "predictions = model.predict(test_images)"
   ]
  },
  {
   "cell_type": "markdown",
   "metadata": {
    "id": "oANOewoXNy-m"
   },
   "source": [
    "Getting the index of the class with the highest probability as the predicted label"
   ]
  },
  {
   "cell_type": "code",
   "execution_count": null,
   "metadata": {
    "id": "sy66BLa2Nwb1"
   },
   "outputs": [],
   "source": [
    "predicted_labels = [np.argmax(prediction) for prediction in predictions]"
   ]
  },
  {
   "cell_type": "markdown",
   "metadata": {
    "id": "JXP9teh9N86l"
   },
   "source": [
    "Getting the actual labels of the test images (before one-hot encoding)"
   ]
  },
  {
   "cell_type": "code",
   "execution_count": null,
   "metadata": {
    "id": "ioFrF1QlN3aT"
   },
   "outputs": [],
   "source": [
    "actual_labels = [np.argmax(label) for label in test_labels]"
   ]
  },
  {
   "cell_type": "markdown",
   "metadata": {
    "id": "-zDVj0xUOMhz"
   },
   "source": [
    "Printing predicted and actual labels for the first 10 test images"
   ]
  },
  {
   "cell_type": "code",
   "execution_count": null,
   "metadata": {
    "colab": {
     "base_uri": "https://localhost:8080/"
    },
    "id": "nDVfhDy3OIaJ",
    "outputId": "d8c93504-f1b6-454b-ac12-97fd6c06d63a"
   },
   "outputs": [
    {
     "name": "stdout",
     "output_type": "stream",
     "text": [
      "Predicted Labels\tActual Labels\n",
      "-------------------------------------\n",
      "7\t\t\t7\n",
      "2\t\t\t2\n",
      "1\t\t\t1\n",
      "0\t\t\t0\n",
      "4\t\t\t4\n",
      "1\t\t\t1\n",
      "4\t\t\t4\n",
      "9\t\t\t9\n",
      "5\t\t\t5\n",
      "9\t\t\t9\n"
     ]
    }
   ],
   "source": [
    "print(\"Predicted Labels\\tActual Labels\")\n",
    "print(\"-------------------------------------\")\n",
    "for i in range(10):\n",
    "    print(f\"{predicted_labels[i]}\\t\\t\\t{actual_labels[i]}\")"
   ]
  }
 ],
 "metadata": {
  "colab": {
   "provenance": []
  },
  "kernelspec": {
   "display_name": "tfgpu",
   "language": "python",
   "name": "tfgpu"
  },
  "language_info": {
   "codemirror_mode": {
    "name": "ipython",
    "version": 3
   },
   "file_extension": ".py",
   "mimetype": "text/x-python",
   "name": "python",
   "nbconvert_exporter": "python",
   "pygments_lexer": "ipython3",
   "version": "3.6.11"
  }
 },
 "nbformat": 4,
 "nbformat_minor": 1
}
